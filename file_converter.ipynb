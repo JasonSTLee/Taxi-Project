{
 "cells": [
  {
   "cell_type": "markdown",
   "metadata": {},
   "source": [
    "# First notebook testing testing"
   ]
  },
  {
   "cell_type": "code",
   "execution_count": 1,
   "metadata": {},
   "outputs": [],
   "source": [
    "import pandas as pd\n",
    "\n",
    "file_path = \"/Users/admin/Desktop/taxi_project/green_tripdata_2015-09.tar.bz2\"\n",
    "\n",
    "df = pd.read_csv(file_path, compression=\"bz2\")\n"
   ]
  },
  {
   "cell_type": "code",
   "execution_count": 32,
   "metadata": {},
   "outputs": [
    {
     "name": "stdout",
     "output_type": "stream",
     "text": [
      "   VendorID lpep_pickup_datetime Lpep_dropoff_datetime Store_and_fwd_flag  \\\n",
      "0         2  2015-09-01 00:02:34   2015-09-01 00:02:38                  N   \n",
      "1         2  2015-09-01 00:04:20   2015-09-01 00:04:24                  N   \n",
      "2         2  2015-09-01 00:01:50   2015-09-01 00:04:24                  N   \n",
      "3         2  2015-09-01 00:02:36   2015-09-01 00:06:42                  N   \n",
      "4         2  2015-09-01 00:00:14   2015-09-01 00:04:20                  N   \n",
      "\n",
      "   RateCodeID  Pickup_longitude  Pickup_latitude  Dropoff_longitude  \\\n",
      "0           5        -73.979485        40.684956         -73.979431   \n",
      "1           5        -74.010796        40.912216         -74.010780   \n",
      "2           1        -73.921410        40.766708         -73.914413   \n",
      "3           1        -73.921387        40.766678         -73.931427   \n",
      "4           1        -73.955482        40.714046         -73.944412   \n",
      "\n",
      "   Dropoff_latitude  Passenger_count  ...  Fare_amount  Extra  MTA_tax  \\\n",
      "0         40.685020                1  ...          7.8    0.0      0.0   \n",
      "1         40.912212                1  ...         45.0    0.0      0.0   \n",
      "2         40.764687                1  ...          4.0    0.5      0.5   \n",
      "3         40.771584                1  ...          5.0    0.5      0.5   \n",
      "4         40.714729                1  ...          5.0    0.5      0.5   \n",
      "\n",
      "   Tip_amount  Tolls_amount  Ehail_fee  improvement_surcharge  Total_amount  \\\n",
      "0        1.95           0.0        NaN                    0.0          9.75   \n",
      "1        0.00           0.0        NaN                    0.0         45.00   \n",
      "2        0.50           0.0        NaN                    0.3          5.80   \n",
      "3        0.00           0.0        NaN                    0.3          6.30   \n",
      "4        0.00           0.0        NaN                    0.3          6.30   \n",
      "\n",
      "   Payment_type  Trip_type   \n",
      "0             1         2.0  \n",
      "1             1         2.0  \n",
      "2             1         1.0  \n",
      "3             2         1.0  \n",
      "4             2         1.0  \n",
      "\n",
      "[5 rows x 21 columns]\n"
     ]
    }
   ],
   "source": [
    "print(df.head())\n"
   ]
  },
  {
   "cell_type": "code",
   "execution_count": 33,
   "metadata": {},
   "outputs": [],
   "source": [
    "output_file_path = \"/Users/admin/Desktop/output.csv\"\n",
    "\n",
    "df.to_csv(output_file_path, index=False)\n"
   ]
  }
 ],
 "metadata": {
  "kernelspec": {
   "display_name": "Python 3",
   "language": "python",
   "name": "python3"
  },
  "language_info": {
   "codemirror_mode": {
    "name": "ipython",
    "version": 3
   },
   "file_extension": ".py",
   "mimetype": "text/x-python",
   "name": "python",
   "nbconvert_exporter": "python",
   "pygments_lexer": "ipython3",
   "version": "3.12.2"
  }
 },
 "nbformat": 4,
 "nbformat_minor": 2
}
